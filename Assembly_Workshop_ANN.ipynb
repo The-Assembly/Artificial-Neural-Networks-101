{
  "nbformat": 4,
  "nbformat_minor": 0,
  "metadata": {
    "colab": {
      "name": "Assembly Workshop - ANN",
      "provenance": [],
      "collapsed_sections": []
    },
    "kernelspec": {
      "name": "python3",
      "display_name": "Python 3"
    }
  },
  "cells": [
    {
      "cell_type": "markdown",
      "metadata": {
        "id": "JQVyLscxqj2R"
      },
      "source": [
        "#**Assembly Workshop -- Artificial Neural Networks**\r\n"
      ]
    },
    {
      "cell_type": "markdown",
      "metadata": {
        "id": "tQ7V6g2BxDAT"
      },
      "source": [
        "##**Part One - Data Preprocessing**"
      ]
    },
    {
      "cell_type": "markdown",
      "metadata": {
        "id": "7CpLq_a9xTsS"
      },
      "source": [
        "##**Step 1: Import the required libraries**"
      ]
    },
    {
      "cell_type": "markdown",
      "metadata": {
        "id": "ryLJLUNmxc_Z"
      },
      "source": [
        "Import the numpy, pandas, and tensorflow libraries."
      ]
    },
    {
      "cell_type": "code",
      "metadata": {
        "id": "9hOu6axEx4nq"
      },
      "source": [
        ""
      ],
      "execution_count": null,
      "outputs": []
    },
    {
      "cell_type": "markdown",
      "metadata": {
        "id": "sZa5zZ1kxvgK"
      },
      "source": [
        "##**Step 2: Import the dataset**"
      ]
    },
    {
      "cell_type": "markdown",
      "metadata": {
        "id": "yNAfBz4Qx5fy"
      },
      "source": [
        "Our dataset is a .csv file, which we can read using the pandas library. Then, we will remove the unused columns from our x (features), and separate the label column.\r\n"
      ]
    },
    {
      "cell_type": "code",
      "metadata": {
        "id": "otFjft9xxcdJ"
      },
      "source": [
        ""
      ],
      "execution_count": null,
      "outputs": []
    },
    {
      "cell_type": "markdown",
      "metadata": {
        "id": "vokaoPAjyn39"
      },
      "source": [
        "##**Step 3: Encoding the Data**"
      ]
    },
    {
      "cell_type": "markdown",
      "metadata": {
        "id": "JVYg3KjgywB-"
      },
      "source": [
        "Using the following data preprocessing tools, we will first encode the gender column (male = 1, female = 0), and one-hot encode the Geography column (since we only have 3 countries)."
      ]
    },
    {
      "cell_type": "code",
      "metadata": {
        "id": "ytll4OPsxSzz"
      },
      "source": [
        "from sklearn.preprocessing import LabelEncoder\r\n",
        "le = LabelEncoder()\r\n",
        "x[:, 2] = le.fit_transform(x[:, 2]) "
      ],
      "execution_count": null,
      "outputs": []
    },
    {
      "cell_type": "code",
      "metadata": {
        "id": "EjmnEnMeqjOa"
      },
      "source": [
        "from sklearn.compose import ColumnTransformer\r\n",
        "from sklearn.preprocessing import OneHotEncoder\r\n",
        "ct = ColumnTransformer(transformers = [('encoder', OneHotEncoder(), [1])], remainder = 'passthrough')\r\n",
        "x = np.array(ct.fit_transform(x))"
      ],
      "execution_count": null,
      "outputs": []
    },
    {
      "cell_type": "markdown",
      "metadata": {
        "id": "RjRfo-bDzIl4"
      },
      "source": [
        "##**Step 4: Splitting the dataset**"
      ]
    },
    {
      "cell_type": "markdown",
      "metadata": {
        "id": "wpsM9N9XzQj6"
      },
      "source": [
        "Next, we'll split the dataset into a training set and a test set."
      ]
    },
    {
      "cell_type": "code",
      "metadata": {
        "id": "ACudBgU9zPWz"
      },
      "source": [
        "from sklearn.model_selection import train_test_split\r\n",
        "x_train, x_test, y_train, y_test = train_test_split(x,y, test_size = 0.2, random_state = 0)"
      ],
      "execution_count": null,
      "outputs": []
    },
    {
      "cell_type": "markdown",
      "metadata": {
        "id": "8CHU5J9TzbDJ"
      },
      "source": [
        "##**Step 5: Feature Scaling**"
      ]
    },
    {
      "cell_type": "markdown",
      "metadata": {
        "id": "jZRuwbUEz7Mh"
      },
      "source": [
        "Feature scaling is a MUST in deep learning! "
      ]
    },
    {
      "cell_type": "code",
      "metadata": {
        "id": "IACSwotSzb3f"
      },
      "source": [
        "from sklearn.preprocessing import StandardScaler\r\n",
        "sc = StandardScaler()\r\n",
        "x_train = sc.fit_transform(x_train)\r\n",
        "x_test = sc.transform(x_test)"
      ],
      "execution_count": null,
      "outputs": []
    },
    {
      "cell_type": "markdown",
      "metadata": {
        "id": "fbVabnVt0l6e"
      },
      "source": [
        "#**Part 2: Building the ANN**"
      ]
    },
    {
      "cell_type": "markdown",
      "metadata": {
        "id": "mv8w-77N0qg3"
      },
      "source": [
        "##**Step 1: Initialise the ANN**"
      ]
    },
    {
      "cell_type": "markdown",
      "metadata": {
        "id": "GXPUuYYT3JgP"
      },
      "source": [
        "To initialise the ANN, we need to find the Sequential class from the tensorflow keras library."
      ]
    },
    {
      "cell_type": "code",
      "metadata": {
        "id": "GSdFXPc10uFN"
      },
      "source": [
        ""
      ],
      "execution_count": null,
      "outputs": []
    },
    {
      "cell_type": "markdown",
      "metadata": {
        "id": "QXhg5UT60ubt"
      },
      "source": [
        "##**Step 2: Adding the first input layer and hidden layer**"
      ]
    },
    {
      "cell_type": "markdown",
      "metadata": {
        "id": "upctF73l3UXP"
      },
      "source": [
        "Next, we will add the Dense class to the ANN by using the .add(layer) function. We will be adding 32 neurons to the first hidden layer using the relu activation function."
      ]
    },
    {
      "cell_type": "code",
      "metadata": {
        "id": "2cjgPcVW3HpN"
      },
      "source": [
        ""
      ],
      "execution_count": null,
      "outputs": []
    },
    {
      "cell_type": "markdown",
      "metadata": {
        "id": "CbpKmfnV3fVi"
      },
      "source": [
        "##**Step 3: Adding the second hidden layer**"
      ]
    },
    {
      "cell_type": "markdown",
      "metadata": {
        "id": "WR0uUZzR3iu0"
      },
      "source": [
        "Similarly, add a second hidden layer with 16 neurons, using the relu activation function."
      ]
    },
    {
      "cell_type": "code",
      "metadata": {
        "id": "uy-3BnVW3iUA"
      },
      "source": [
        ""
      ],
      "execution_count": null,
      "outputs": []
    },
    {
      "cell_type": "markdown",
      "metadata": {
        "id": "ihK0JIYa3ueM"
      },
      "source": [
        "##**Step 4: Adding the output layer**"
      ]
    },
    {
      "cell_type": "markdown",
      "metadata": {
        "id": "WQNHbrM534gh"
      },
      "source": [
        "Finally, let's add our last output layer that will have an activation function of sigmoid."
      ]
    },
    {
      "cell_type": "code",
      "metadata": {
        "id": "jUnujAZo35DV"
      },
      "source": [
        ""
      ],
      "execution_count": null,
      "outputs": []
    },
    {
      "cell_type": "markdown",
      "metadata": {
        "id": "Tp7C6_YF4UTB"
      },
      "source": [
        "#**Part 3: Training the ANN**"
      ]
    },
    {
      "cell_type": "markdown",
      "metadata": {
        "id": "hBfkvR1K4YhN"
      },
      "source": [
        "##**Step 1: Compiling the ANN**"
      ]
    },
    {
      "cell_type": "markdown",
      "metadata": {
        "id": "tmYBwjxG4f-H"
      },
      "source": [
        "We'll compile the network using the adam optimizer and the binary crossentropy loss function."
      ]
    },
    {
      "cell_type": "code",
      "metadata": {
        "id": "QL_RI-qK4Y09"
      },
      "source": [
        ""
      ],
      "execution_count": null,
      "outputs": []
    },
    {
      "cell_type": "markdown",
      "metadata": {
        "id": "niWQyRv_43a4"
      },
      "source": [
        "##**Step 2: Training the ANN**"
      ]
    },
    {
      "cell_type": "markdown",
      "metadata": {
        "id": "zKCoqpnu43K1"
      },
      "source": [
        "Using the .fit function, we will train the ANN using a batch size of 32 through 100 epochs."
      ]
    },
    {
      "cell_type": "code",
      "metadata": {
        "id": "U_U8VKh15DJF"
      },
      "source": [
        ""
      ],
      "execution_count": null,
      "outputs": []
    },
    {
      "cell_type": "markdown",
      "metadata": {
        "id": "TarJ-uCY5DlX"
      },
      "source": [
        "Finally, let's see what our neural network looks like!"
      ]
    },
    {
      "cell_type": "code",
      "metadata": {
        "id": "oZcWucH15INv"
      },
      "source": [
        "print(ann.summary())"
      ],
      "execution_count": null,
      "outputs": []
    },
    {
      "cell_type": "markdown",
      "metadata": {
        "id": "vIilHOXm5MIl"
      },
      "source": [
        "#**Part 4: Testing the ANN**"
      ]
    },
    {
      "cell_type": "markdown",
      "metadata": {
        "id": "rQE20OxA5P_x"
      },
      "source": [
        "**Assume a customer with the following details:**\r\n",
        "\r\n",
        "Geography: Germany\r\n",
        "\r\n",
        "Credit Score: 750\r\n",
        "\r\n",
        "Gender: Male\r\n",
        "\r\n",
        "Age: 30\r\n",
        "\r\n",
        "Tenure: 4 years \r\n",
        "\r\n",
        "Balance:  150,000\r\n",
        "\r\n",
        "Number of Products: 2 \r\n",
        "\r\n",
        "Credit Card? Yes\r\n",
        "\r\n",
        "Active Member?: No\r\n",
        "\r\n",
        "Estimated Salary: 90,000 \r\n",
        "\r\n",
        "**Is this customer going to leave the bank?**"
      ]
    },
    {
      "cell_type": "markdown",
      "metadata": {
        "id": "JSoGNNQpBUz8"
      },
      "source": [
        "**Note the following:**\r\n",
        "\r\n",
        "Male: 1\r\n",
        "\r\n",
        "Female: 0\r\n",
        "\r\n",
        "France: [0,0,1]\r\n",
        "\r\n",
        "Germany: [0,1,0]\r\n",
        "\r\n",
        "Spain: [1,0,0]\r\n",
        "\r\n"
      ]
    },
    {
      "cell_type": "code",
      "metadata": {
        "id": "7n1HRB6XBASt"
      },
      "source": [
        "prediction = ann.predict(sc.transform([[0, 1, 0,\r\n",
        "                                        750,\r\n",
        "                                        1,\r\n",
        "                                        30,\r\n",
        "                                        4,\r\n",
        "                                        150000,\r\n",
        "                                        2,\r\n",
        "                                        1,\r\n",
        "                                        0,\r\n",
        "                                        90000]])) > 0.5\r\n",
        "\r\n",
        "print(prediction)\r\n",
        "if (prediction > 0.5):\r\n",
        "   print('The customer is likely to leave the bank in the following 6 months')\r\n",
        "else:\r\n",
        "   print('The customer is likely to stay for the next 6 months')"
      ],
      "execution_count": null,
      "outputs": []
    },
    {
      "cell_type": "markdown",
      "metadata": {
        "id": "eX5xZ5Lp_7dn"
      },
      "source": [
        "**Assume a customer with the following details:**\r\n",
        "\r\n",
        "Geography: France\r\n",
        "\r\n",
        "Credit Score: 608\r\n",
        "\r\n",
        "Gender: Female\r\n",
        "\r\n",
        "Age: 42\r\n",
        "\r\n",
        "Tenure: 8 years \r\n",
        "\r\n",
        "Balance:  160,000\r\n",
        "\r\n",
        "Number of Products: 3 \r\n",
        "\r\n",
        "Credit Card? Yes\r\n",
        "\r\n",
        "Active Member?: No\r\n",
        "\r\n",
        "Estimated Salary: 110,000 \r\n",
        "\r\n",
        "**Is this customer going to leave the bank?**"
      ]
    },
    {
      "cell_type": "code",
      "metadata": {
        "id": "FKFPKZSB_9Ah"
      },
      "source": [
        "prediction = ann.predict(sc.transform([[0, 0, 1,\r\n",
        "                                        608,\r\n",
        "                                        0,\r\n",
        "                                        42,\r\n",
        "                                        8,\r\n",
        "                                        160000,\r\n",
        "                                        3,\r\n",
        "                                        1,\r\n",
        "                                        0,\r\n",
        "                                        110000]])) \r\n",
        "print(prediction)\r\n",
        "if (prediction > 0.5):\r\n",
        "  print('The customer is likely to leave the bank in the following 6 months')\r\n",
        "else:\r\n",
        "  print('The customer is likely to stay for the next 6 months')"
      ],
      "execution_count": null,
      "outputs": []
    }
  ]
}